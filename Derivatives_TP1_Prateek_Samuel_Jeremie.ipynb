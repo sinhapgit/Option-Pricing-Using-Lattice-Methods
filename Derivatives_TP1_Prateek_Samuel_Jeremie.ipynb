{
 "cells": [
  {
   "cell_type": "markdown",
   "metadata": {},
   "source": [
    "# Assignement 1 Deivatives FINA60206A.A2023\n",
    "by Prateek Sinha, Jeremie Couillard, Samuel Morin"
   ]
  },
  {
   "cell_type": "code",
   "execution_count": 34,
   "metadata": {},
   "outputs": [],
   "source": [
    "import numpy as np\n",
    "import scipy.stats as stats\n",
    "from scipy.optimize import fsolve\n",
    "from scipy.integrate import quad\n",
    "import matplotlib.pyplot as plt"
   ]
  },
  {
   "cell_type": "markdown",
   "metadata": {},
   "source": [
    "# Question 1"
   ]
  },
  {
   "cell_type": "markdown",
   "metadata": {},
   "source": [
    "## Functions"
   ]
  },
  {
   "cell_type": "code",
   "execution_count": 29,
   "metadata": {},
   "outputs": [],
   "source": [
    "# Function to calculate the BSM adjustement for the binomial trees\n",
    "def bsm_put_q1(S, K, r, y, dt, sigma):\n",
    "    d1 = (np.log(S/K) + ((r - y) + (0.5 * sigma**2)) * dt) / (sigma * np.sqrt(dt))\n",
    "    d2 = d1 - sigma * np.sqrt(dt)\n",
    "    return K * np.exp(-r*dt) * stats.norm.cdf(-d2) - S * np.exp(-y*dt) * stats.norm.cdf(-d1)"
   ]
  },
  {
   "cell_type": "code",
   "execution_count": 168,
   "metadata": {},
   "outputs": [],
   "source": [
    "# Function to extract one step of the binomial tree\n",
    "\n",
    "def CRR_stock_tree(T, S0, r, y, sigma, N, step):\n",
    "    # T = time to maturity\n",
    "    # S0 = initial stock price\n",
    "    # r = risk-free interest rate\n",
    "    # y = dividend yield\n",
    "    # sigma = stock price volatility\n",
    "    # N = number of time steps in the model\n",
    "    # step = specific time step for which to calculate the stock prices\n",
    "\n",
    "    # precompute values\n",
    "    dt = T/N\n",
    "    u = np.exp(sigma*np.sqrt(dt))\n",
    "    d = 1/u\n",
    "    q = (np.exp((r-y)*dt) - d)/(u - d)\n",
    "    disc = np.exp(-(r)*dt)\n",
    "\n",
    "    # initialise stock prices at maturity\n",
    "    S = S0 * u**(np.arange(step,-1,-1)) * d**(np.arange(0,step+1,1))\n",
    "    \n",
    "    return(S) # returns stock prices at the specified step"
   ]
  },
  {
   "cell_type": "code",
   "execution_count": 169,
   "metadata": {},
   "outputs": [],
   "source": [
    "# Returns put option prices at a step in a CRR tree with BSM adjustments at the penultimate step.\n",
    "\n",
    "def CRR_option_tree(K, T, S0, r, y, sigma, N, step):\n",
    "    # K = Strike price of the option\n",
    "    # T = time to maturity\n",
    "    # S0 = initial stock price\n",
    "    # r = risk-free interest rate\n",
    "    # y = dividend yield\n",
    "    # sigma = stock price volatility\n",
    "    # N = number of time steps in the model\n",
    "    # step = specific time step for which to calculate the option prices\n",
    "    \n",
    "    # precompute values\n",
    "    dt = T/N\n",
    "    u = np.exp(sigma*np.sqrt(dt))\n",
    "    d = 1/u\n",
    "    q = (np.exp((r-y)*dt) - d)/(u - d)\n",
    "    disc = np.exp(-(r)*dt)\n",
    "\n",
    "    # initialise stock prices at maturity\n",
    "    S = S0 * u**(np.arange(N,-1,-1)) * d**(np.arange(0,N+1,1))\n",
    "\n",
    "    # option payoff\n",
    "    C = np.maximum(0, K - S)\n",
    "    \n",
    "    if step < N:\n",
    "        temp_N = N-1\n",
    "        # Possible stock prices at 999th step\n",
    "        S = S0 * u**(np.arange(temp_N,-1,-1)) * d**(np.arange(0,temp_N+1,1))\n",
    "\n",
    "        # BSM adjustment at the 999th step\n",
    "        C = np.array([bsm_put_q1(s,K,r,y,dt,sigma)for s in S])\n",
    "\n",
    "        # Calculate option payoff at 999th step\n",
    "        C = np.maximum(C, K - S)\n",
    "\n",
    "        if step < N-1:\n",
    "            # backward induction\n",
    "            for i in np.arange(N-2,step-1,-1):\n",
    "                S = S0 * u**(np.arange(i,-1,-1)) * d**(np.arange(0,i+1,1))\n",
    "                C[:i+1] = disc * (q*C[0:i+1] + (1-q)*C[1:i+2])\n",
    "                C = C[:-1]\n",
    "                C = np.maximum(C, K-S)\n",
    "            \n",
    "    return C # return option prices at the specified step"
   ]
  },
  {
   "cell_type": "code",
   "execution_count": 170,
   "metadata": {},
   "outputs": [],
   "source": [
    "# Returns put option price at a step in a CRR tree with BSM adjustments at the penultimate step.\n",
    "\n",
    "def CRR_american_tree_BSM_adjustment(K, T, S0, r, y, sigma, N):\n",
    "    # K = Strike price of the option\n",
    "    # T = time to maturity\n",
    "    # S0 = initial stock price\n",
    "    # r = risk-free interest rate\n",
    "    # y = dividend yield\n",
    "    # sigma = stock price volatility\n",
    "    # N = number of time steps in the model\n",
    "\n",
    "    # Calculate time step size\n",
    "    dt = T/N\n",
    "    # Compute upward price movement factor\n",
    "    u = np.exp(sigma*np.sqrt(dt))\n",
    "    # Compute downward price movement factor\n",
    "    d = 1/u\n",
    "    # Calculate risk-neutral probability for upward move\n",
    "    q = (np.exp((r-y)*dt) - d)/(u - d)\n",
    "    # Calculate discount factor for one time step\n",
    "    disc = np.exp(-(r)*dt)\n",
    "\n",
    "    # Initialize possible stock prices at option's maturity\n",
    "    S = S0 * u**(np.arange(N,-1,-1)) * d**(np.arange(0,N+1,1))\n",
    "\n",
    "    # Calculate option payoff at maturity\n",
    "    C = np.maximum(0, K - S)\n",
    "\n",
    "    # Possible stock prices at 999th step\n",
    "    S = S0 * u**(np.arange(N-1,-1,-1)) * d**(np.arange(0,N,1))\n",
    "\n",
    "    # BSM adjustment at the 999th step\n",
    "    C = np.array([bsm_put_q1(s,K,r,y,dt,sigma)for s in S])\n",
    "\n",
    "    # Calculate option payoff at 999th step\n",
    "    C = np.maximum(C, K - S)\n",
    "\n",
    "    # Begin backward induction through the tree\n",
    "    for i in np.arange(N-2,-1,-1):\n",
    "        # Compute stock prices for the current time step\n",
    "        S = S0 * u**(np.arange(i,-1,-1)) * d**(np.arange(0,i+1,1))\n",
    "        # Compute option values based on possible future values\n",
    "        C[:i+1] = disc * (q*C[0:i+1] + (1-q)*C[1:i+2])\n",
    "        # Reduce size of option values array for next iteration\n",
    "        C = C[:-1]\n",
    "        # Check for early exercise opportunity for American option\n",
    "        C = np.maximum(C, K-S)\n",
    "    # Return the option's value at the initial time\n",
    "    return C[0]"
   ]
  },
  {
   "cell_type": "markdown",
   "metadata": {},
   "source": [
    "## Option Prices"
   ]
  },
  {
   "cell_type": "markdown",
   "metadata": {},
   "source": [
    "### Initalise Parameters"
   ]
  },
  {
   "cell_type": "code",
   "execution_count": 171,
   "metadata": {},
   "outputs": [],
   "source": [
    "# Initialise parameters for option pricing\n",
    "\n",
    "S0 = 100      # Initial stock price\n",
    "sigma = 0.3   # Stock price volatility (standard deviation of stock returns)\n",
    "r = 0.04      # Risk-free interest rate\n",
    "y = 0.02      # Dividend yield\n",
    "N = 1000      # Number of time steps in the model\n",
    "T = 3/12      # Time to maturity in years (3 months in this case)\n",
    "dt = T/N      # Duration of each time step\n",
    "K = [90, 100, 110]  # List of strike prices for the options"
   ]
  },
  {
   "cell_type": "markdown",
   "metadata": {},
   "source": [
    "### Binomial Tree Prices for the American Put options for each K"
   ]
  },
  {
   "cell_type": "code",
   "execution_count": 174,
   "metadata": {},
   "outputs": [
    {
     "name": "stdout",
     "output_type": "stream",
     "text": [
      "Binomial tree prices: \n",
      "K=90: 1.9054509896847356 \n",
      "K=100: 5.7298538803062495 \n",
      "K=110: 12.143342664653876\n"
     ]
    }
   ],
   "source": [
    "binomial_price = []  # Store calculated binomial option prices\n",
    "\n",
    "# Loop through strike prices to compute option prices\n",
    "for i in range(len(K)):\n",
    "    price_val = CRR_american_tree_BSM_adjustment(K[i], T, S0, r, y, sigma, N)\n",
    "    binomial_price.append(price_val)\n",
    "\n",
    "# Display option prices for each strike\n",
    "print(f\"Binomial tree prices: \\nK=90: {binomial_price[0]} \\nK=100: {binomial_price[1]} \\nK=110: {binomial_price[2]}\")"
   ]
  },
  {
   "cell_type": "markdown",
   "metadata": {},
   "source": [
    "## Option Greeks"
   ]
  },
  {
   "cell_type": "markdown",
   "metadata": {},
   "source": [
    "### Extracting stock and option binomial sub-trees"
   ]
  },
  {
   "cell_type": "code",
   "execution_count": 176,
   "metadata": {},
   "outputs": [
    {
     "name": "stdout",
     "output_type": "stream",
     "text": [
      "Stock tree: [[100.0], [100.47546842991781, 99.52678157430094], [100.95319756211411, 100.0, 99.05580250538608]]\n",
      "\n",
      "Option tree K=90: [[1.9054509896847356], [1.8061819300732265, 2.004496856268518], [1.710777942473999, 1.9013709137983523, 2.107391433651189]]\n",
      "\n",
      "Option tree K=100: [[5.7298538803062495], [5.511831116214299, 5.947417308210212], [5.298811110652247, 5.724400596896359, 6.1699658860426245]]\n",
      "\n",
      "Option tree K=110: [[12.143342664653876], [11.806987283076028, 12.479055388920306], [11.47442836369134, 12.13890681822794, 12.818558025000272]]\n"
     ]
    }
   ],
   "source": [
    "# Number of steps (upto step 2)\n",
    "n = 3\n",
    "\n",
    "# Compute and store stock prices for each step\n",
    "stock_binomial_tree = []\n",
    "for i in range(n):\n",
    "    temp_step = CRR_stock_tree(T, S0, r, y, sigma, N, i)\n",
    "    stock_binomial_tree.append(list(temp_step))\n",
    "print(f\"Stock tree: {stock_binomial_tree}\")\n",
    "\n",
    "# Compute and store option prices for K=90 for each step\n",
    "option_binomial_tree_90 = []\n",
    "for i in range(n):\n",
    "    temp_step = CRR_option_tree(K[0], T, S0, r, y, sigma, N, i)\n",
    "    option_binomial_tree_90.append(list(temp_step))\n",
    "\n",
    "# Compute and store option prices for K=100 for each step\n",
    "option_binomial_tree_100 = []\n",
    "for i in range(n):\n",
    "    temp_step = CRR_option_tree(K[1], T, S0, r, y, sigma, N, i)\n",
    "    option_binomial_tree_100.append(list(temp_step))\n",
    "\n",
    "# Compute and store option prices for K=110 for each step\n",
    "option_binomial_tree_110 = []\n",
    "for i in range(n):\n",
    "    temp_step = CRR_option_tree(K[2], T, S0, r, y, sigma, N, i)\n",
    "    option_binomial_tree_110.append(list(temp_step))\n",
    "\n",
    "# Display computed option prices\n",
    "print(f\"\\nOption tree K=90: {option_binomial_tree_90}\")\n",
    "print(f\"\\nOption tree K=100: {option_binomial_tree_100}\")\n",
    "print(f\"\\nOption tree K=110: {option_binomial_tree_110}\")\n"
   ]
  },
  {
   "cell_type": "markdown",
   "metadata": {},
   "source": [
    "### Delta"
   ]
  },
  {
   "cell_type": "code",
   "execution_count": 177,
   "metadata": {},
   "outputs": [
    {
     "name": "stdout",
     "output_type": "stream",
     "text": [
      "Delta K=90: -0.2090415030219218\n",
      "Delta K=100: -0.4591464395410839\n",
      "Delta K=110: -0.7084193291655504\n",
      "\n",
      "Delta tree K=90: [[-0.2090415030219218], [-0.19995117371223015, -0.21819642715434084]]\n",
      "Delta tree K=100: [[-0.4591464395410839], [-0.44648612539481325, -0.47189840228124874]]\n",
      "Delta tree K=110: [[-0.7084193291655504], [-0.6971046516976412, -0.7198189051012492]]\n"
     ]
    }
   ],
   "source": [
    "def compute_binomial_delta(stock_tree, option_tree):\n",
    "    # Calculate delta for the first node\n",
    "    delta_node1 = (option_tree[1][0] - option_tree[1][1]) / (stock_tree[1][0] - stock_tree[1][1])\n",
    "    \n",
    "    # Calculate delta for the second node\n",
    "    delta_node2 = (option_tree[2][0] - option_tree[2][1]) / (stock_tree[2][0] - stock_tree[2][1])\n",
    "    \n",
    "    # Calculate delta for the third node\n",
    "    delta_node3 = (option_tree[2][1] - option_tree[2][2]) / (stock_tree[2][1] - stock_tree[2][2])\n",
    "    \n",
    "    delta = []\n",
    "    # Append the calculated deltas to the delta list\n",
    "    delta.append([delta_node1])\n",
    "    delta.append([delta_node2, delta_node3])\n",
    "\n",
    "    return delta\n",
    "\n",
    "# Compute deltas for each strike price\n",
    "delta_binomial_90 = compute_binomial_delta(stock_binomial_tree, option_binomial_tree_90)\n",
    "delta_binomial_100 = compute_binomial_delta(stock_binomial_tree, option_binomial_tree_100)\n",
    "delta_binomial_110 = compute_binomial_delta(stock_binomial_tree, option_binomial_tree_110)\n",
    "\n",
    "# Display the computed delta values for each strike price\n",
    "print(f\"Delta K=90: {delta_binomial_90[0][0]}\")\n",
    "print(f\"Delta K=100: {delta_binomial_100[0][0]}\")\n",
    "print(f\"Delta K=110: {delta_binomial_110[0][0]}\")\n",
    "\n",
    "# Display the complete delta tree for each strike price\n",
    "print(f\"\\nDelta tree K=90: {delta_binomial_90}\")\n",
    "print(f\"Delta tree K=100: {delta_binomial_100}\")\n",
    "print(f\"Delta tree K=110: {delta_binomial_110}\")\n"
   ]
  },
  {
   "cell_type": "markdown",
   "metadata": {},
   "source": [
    "### Gamma"
   ]
  },
  {
   "cell_type": "code",
   "execution_count": 178,
   "metadata": {},
   "outputs": [
    {
     "name": "stdout",
     "output_type": "stream",
     "text": [
      "Gamma K=90: 0.019232113667525183\n",
      "Gamma K=100: 0.02678679138008244\n",
      "Gamma K=110: 0.023942835582810282\n"
     ]
    }
   ],
   "source": [
    "def compute_binomial_gamma(stock_tree, delta_tree):\n",
    "    # Calculate gamma using delta values and stock prices from the tree\n",
    "    gamma = (delta_tree[1][0] - delta_tree[1][1]) / (stock_tree[1][0] - stock_tree[1][1])\n",
    "    \n",
    "    return gamma\n",
    "\n",
    "# Compute gammas for each strike price\n",
    "gamma_binomial_90 = compute_binomial_gamma(stock_binomial_tree, delta_binomial_90)\n",
    "gamma_binomial_100 = compute_binomial_gamma(stock_binomial_tree, delta_binomial_100)\n",
    "gamma_binomial_110 = compute_binomial_gamma(stock_binomial_tree, delta_binomial_110)\n",
    "\n",
    "# Display the computed gamma values for each strike price\n",
    "print(f\"Gamma K=90: {gamma_binomial_90}\")\n",
    "print(f\"Gamma K=100: {gamma_binomial_100}\")\n",
    "print(f\"Gamma K=110: {gamma_binomial_110}\")"
   ]
  },
  {
   "cell_type": "markdown",
   "metadata": {},
   "source": [
    "### Theta"
   ]
  },
  {
   "cell_type": "code",
   "execution_count": 179,
   "metadata": {},
   "outputs": [
    {
     "name": "stdout",
     "output_type": "stream",
     "text": [
      "Theta K=90: -8.161141288732132\n",
      "Theta K=100: -10.905978730907151\n",
      "Theta K=110: -8.872560774435101\n"
     ]
    }
   ],
   "source": [
    "def compute_binomial_theta(K, S, T, N, r, y, sigma, dt):\n",
    "    # Calculate theta using option price difference over a small time interval (dt)\n",
    "    theta = (CRR_american_tree_BSM_adjustment(K, T-dt, S, r, y, sigma, N) - CRR_american_tree_BSM_adjustment(K, T, S, r, y, sigma, N)) / dt\n",
    "    return theta\n",
    "\n",
    "# Compute theta for each strike price\n",
    "theta_binomial_90 = compute_binomial_theta(K[0], S0, T, N, r, y, sigma, dt)\n",
    "theta_binomial_100 = compute_binomial_theta(K[1], S0, T, N, r, y, sigma, dt)\n",
    "theta_binomial_110 = compute_binomial_theta(K[2], S0, T, N, r, y, sigma, dt)\n",
    "\n",
    "# Display the computed theta values for each strike price\n",
    "print(f\"Theta K=90: {theta_binomial_90}\")\n",
    "print(f\"Theta K=100: {theta_binomial_100}\")\n",
    "print(f\"Theta K=110: {theta_binomial_110}\")"
   ]
  },
  {
   "cell_type": "markdown",
   "metadata": {},
   "source": [
    "## Numerical PDE\n",
    "\n",
    "$$\n",
    "\\frac{\\partial V}{\\partial t} + \\frac{1}{2} \\sigma^2 S^2 \\frac{\\partial^2 V}{\\partial S^2} + rS\\frac{\\partial V}{\\partial S} - rV = 0\n",
    "$$\n",
    "\n",
    "Where:\n",
    "- \\( V \\): Option price\n",
    "- \\( t \\): Time\n",
    "- $\\sigma$: Volatility of the underlying asset\n",
    "- \\( S \\): Price of the underlying asset\n",
    "- \\( r \\): Risk-free rate\n",
    "\n",
    "### PDE with Greek Representations:\n",
    "$$\n",
    "\\Theta + \\frac{1}{2} \\sigma^2 S^2 \\Gamma + rS \\Delta - rV = 0\n",
    "$$\n",
    "\n",
    "Where:\n",
    "- $\\Theta$: Time decay of the option\n",
    "- $\\Gamma$: Measures the rate of change in the option's delta in response to a change in the underlying asset price\n",
    "- $\\Delta$: Rate of change of the option price with respect to a change in the underlying asset price\n",
    "\n",
    "\n",
    "- $( \\Theta + \\frac{1}{2} \\sigma^2 S^2 \\Gamma + rS\\Delta)$ is the **Value Side**.\n",
    "- $( rV )$ is the **Cost Side**.\n",
    "\n",
    "If these values are close, the PDE holds numerically with our binomial calculations.\n"
   ]
  },
  {
   "cell_type": "code",
   "execution_count": 202,
   "metadata": {},
   "outputs": [
    {
     "name": "stdout",
     "output_type": "stream",
     "text": [
      "PDE Value Side K=90: 0.07621803958738943\n",
      "PDE Value Side K=100: 0.22919415521224998\n",
      "PDE Value Side K=110: 0.48573370658615506\n",
      "\n",
      "PDE cost Side K=90: 0.07621803958738943\n",
      "PDE cost Side K=100: 0.22919415521224998\n",
      "PDE cost Side K=110: 0.48573370658615506\n",
      "\n",
      "Difference K=90: -0.0009911839770325725\n",
      "Difference K=100: 0.000590355835528994\n",
      "Difference K=110: -0.0008571270877297255\n"
     ]
    }
   ],
   "source": [
    "# Compute the LHS of the PDE for puts using option Greeks and parameters\n",
    "PDE_binomial_cost_90 = ((theta_binomial_90) + (0.5 * sigma**2 * S0**2 * gamma_binomial_90) + ((r-y) * S0 * delta_binomial_90[0][0]))\n",
    "PDE_binomial_cost_100 = ((theta_binomial_100) + (0.5 * sigma**2 * S0**2 * gamma_binomial_100) + ((r-y) * S0 * delta_binomial_100[0][0]))\n",
    "PDE_binomial_cost_110 = ((theta_binomial_110) + (0.5 * sigma**2 * S0**2 * gamma_binomial_110) + ((r-y) * S0 * delta_binomial_110[0][0]))\n",
    "\n",
    "#Compute the RHS of the PDE for the puts \n",
    "PDE_binomial_value_90 = r*binomial_price[0]\n",
    "PDE_binomial_value_100 = r*binomial_price[1]\n",
    "PDE_binomial_value_110 = r*binomial_price[2]\n",
    "\n",
    "print(f\"PDE Value Side K=90: {PDE_binomial_value_90}\")\n",
    "print(f\"PDE Value Side K=100: {PDE_binomial_value_100}\")\n",
    "print(f\"PDE Value Side K=110: {PDE_binomial_value_110}\")\n",
    "\n",
    "print(f\"\\nPDE cost Side K=90: {PDE_binomial_value_90}\")\n",
    "print(f\"PDE cost Side K=100: {PDE_binomial_value_100}\")\n",
    "print(f\"PDE cost Side K=110: {PDE_binomial_value_110}\")\n",
    "\n",
    "print(f\"\\nDifference K=90: {PDE_binomial_cost_90 - PDE_binomial_value_90}\")\n",
    "print(f\"Difference K=100: {PDE_binomial_cost_100 - PDE_binomial_value_100}\")\n",
    "print(f\"Difference K=110: {PDE_binomial_cost_110 - PDE_binomial_value_110}\")"
   ]
  },
  {
   "cell_type": "markdown",
   "metadata": {},
   "source": [
    "# Question 2"
   ]
  },
  {
   "cell_type": "markdown",
   "metadata": {},
   "source": [
    "## Functions"
   ]
  },
  {
   "cell_type": "code",
   "execution_count": 112,
   "metadata": {},
   "outputs": [],
   "source": [
    "# Function to calculate the BSM adjustement for the trinomial trees\n",
    "\n",
    "def trinomial_stock_tree(S, T, N, r, y, sigma, step):\n",
    "    dt = T/N\n",
    "    u = np.exp(sigma*np.sqrt(3*dt))\n",
    "    d = 1/u\n",
    "    m = 1\n",
    "    q_u = (np.sqrt((dt)/(12*(sigma)**2)))*(r - y - ((sigma**2)/2)) + (1/6)\n",
    "    q_m = 2/3\n",
    "    q_d = -((np.sqrt((dt)/(12*(sigma)**2)))*(r - y - ((sigma**2)/2))) + (1/6)\n",
    "    disc = np.exp(-(r-y)*dt)\n",
    "\n",
    "    # Vectorized computation for the number of up and down moves for each node\n",
    "    up_moves = np.clip(step - np.arange(0, 2*step+1), 0, step)\n",
    "    down_moves = np.clip(np.arange(0, 2*step+1) - step, 0, step)\n",
    "    \n",
    "    # Calculate stock prices for each node based on the number of up and down moves\n",
    "    S = S0 * (u**up_moves) * (d**down_moves)\n",
    "    \n",
    "    return S"
   ]
  },
  {
   "cell_type": "code",
   "execution_count": 152,
   "metadata": {},
   "outputs": [],
   "source": [
    "# Function to extract one step of the binomial tree\n",
    "\n",
    "def trinomial_option_tree(K, S, T, N, r, y, sigma, step):\n",
    "    dt = T/N\n",
    "    u = np.exp(sigma*np.sqrt(3*dt))\n",
    "    d = 1/u\n",
    "    m = 1\n",
    "    q_u = (np.sqrt((dt)/(12*((sigma)**2))))*(r - y - ((sigma**2)/2)) + (1/6)\n",
    "    q_m = 2/3\n",
    "    q_d = -(np.sqrt((dt)/(12*((sigma)**2)))*(r - y - ((sigma**2)/2))) + (1/6)\n",
    "    disc = np.exp(-(r)*dt)\n",
    "\n",
    "    \n",
    "    # Vectorized computation for the number of up and down moves for each node at maturity\n",
    "    up_moves = np.clip(N - np.arange(0, 2*N+1), 0, N)\n",
    "    down_moves = np.clip(np.arange(0, 2*N+1) - N, 0, N)\n",
    "    S = S0 * (u**up_moves) * (d**down_moves)\n",
    "    \n",
    "    # Option values at maturity\n",
    "    C = np.maximum(K - S, 0)\n",
    "    \n",
    "    if step < N:\n",
    "        temp_N = N-1\n",
    "        up_moves = np.clip(temp_N - np.arange(0, 2*temp_N+1), 0, temp_N)\n",
    "        down_moves = np.clip(np.arange(0, 2*temp_N+1) - temp_N, 0, temp_N)\n",
    "        S = S0 * (u**up_moves) * (d**down_moves)\n",
    "        C = np.array([bsm_put_q1(s,K,r,y,dt,sigma)for s in S])\n",
    "        C = np.maximum(K - S, C)\n",
    "\n",
    "        if step < N-1:\n",
    "            # Backward induction\n",
    "            for i in np.arange(N-2, step-1, -1):\n",
    "                up_moves = np.clip(i - np.arange(0, 2*i+1), 0, i)\n",
    "                down_moves = np.clip(np.arange(0, 2*i+1) - i, 0, i)\n",
    "                S = S0 * (u**up_moves) * (d**down_moves)\n",
    "\n",
    "                # Compute option values based on possible future values\n",
    "                C[0:((2*i)+1)] = disc * (q_u*C[0:((2*i)+1)] + q_m*C[1:((2*i)+2)] + q_d*C[2:((2*i)+3)])\n",
    "                # Reduce size of option values array for next iteration\n",
    "                C = C[:-2]\n",
    "                # Check for early exercise opportunity for American option\n",
    "                C = np.maximum(C, K-S)\n",
    "    \n",
    "    return C"
   ]
  },
  {
   "cell_type": "code",
   "execution_count": 137,
   "metadata": {},
   "outputs": [],
   "source": [
    "# # Function to extract price of the trinomial tree \n",
    "\n",
    "def trinomial_american_tree(K, S, T, N, r, y, sigma):\n",
    "  dt = T/N\n",
    "  u = np.exp(sigma*np.sqrt(3*dt))\n",
    "  d = 1/u\n",
    "  m = 1\n",
    "  q_u = (np.sqrt((dt)/(12*(sigma)**2)))*(r - y - ((sigma**2)/2)) + (1/6)\n",
    "  q_m = 2/3\n",
    "  q_d = -((np.sqrt((dt)/(12*(sigma)**2)))*(r - y - ((sigma**2)/2))) + (1/6)\n",
    "  disc = np.exp(-(r)*dt)\n",
    "\n",
    "  # Vectorized computation for the number of up and down moves for each node at maturity\n",
    "  up_moves = np.clip(N - np.arange(0, 2*N+1), 0, N)\n",
    "  down_moves = np.clip(np.arange(0, 2*N+1) - N, 0, N)\n",
    "  S = S0 * (u**up_moves) * (d**down_moves)\n",
    "    \n",
    "  # Option values at maturity\n",
    "  C = np.maximum(K - S, 0)\n",
    "    \n",
    "  # Adjustment at the penultimate step\n",
    "  temp_N = N-1\n",
    "  up_moves = np.clip(temp_N - np.arange(0, 2*temp_N+1), 0, temp_N)\n",
    "  down_moves = np.clip(np.arange(0, 2*temp_N+1) - temp_N, 0, temp_N)\n",
    "  S = S0 * (u**up_moves) * (d**down_moves)\n",
    "  C = np.array([bsm_put_q1(s,K,r,y,dt,sigma)for s in S])\n",
    "  C = np.maximum(K - S, C)\n",
    "\n",
    "  # Backward induction\n",
    "  for i in np.arange(N-2, -1, -1):\n",
    "    up_moves = np.clip(i - np.arange(0, 2*i+1), 0, i)\n",
    "    down_moves = np.clip(np.arange(0, 2*i+1) - i, 0, i)\n",
    "    S = S0 * (u**up_moves) * (d**down_moves)\n",
    "\n",
    "    # Compute option values based on possible future values\n",
    "    C[0:((2*i)+1)] = disc * (q_u*C[0:((2*i)+1)] + q_m*C[1:((2*i)+2)] + q_d*C[2:((2*i)+3)])\n",
    "    # Reduce size of option values array for next iteration\n",
    "    C = C[:-2]\n",
    "    # Check for early exercise opportunity for American option\n",
    "    C = np.maximum(C, K-S)\n",
    "\n",
    "  return C[0]"
   ]
  },
  {
   "cell_type": "markdown",
   "metadata": {},
   "source": [
    "## Option Prices"
   ]
  },
  {
   "cell_type": "code",
   "execution_count": 115,
   "metadata": {},
   "outputs": [],
   "source": [
    "# Initialise parameters\n",
    "S0 = 100\n",
    "sigma = 0.3\n",
    "r = 0.04\n",
    "y = 0.02\n",
    "N = 1000\n",
    "T = 3/12\n",
    "dt = T/N\n",
    "K = [90, 100, 110]"
   ]
  },
  {
   "cell_type": "code",
   "execution_count": 186,
   "metadata": {},
   "outputs": [
    {
     "name": "stdout",
     "output_type": "stream",
     "text": [
      "Trinomial tree price: \n",
      "K=90: 1.905147658846689, \n",
      "K=100: 5.729126293249289, \n",
      "K=110: 12.14275151045618\n"
     ]
    }
   ],
   "source": [
    "trinomial_price =[]\n",
    "for i in range(len(K)):\n",
    "    price_val = trinomial_american_tree(K[i], S0, T, N, r, y, sigma)\n",
    "    trinomial_price.append(price_val)\n",
    "print(f\"Trinomial tree price: \\nK=90: {trinomial_price[0]}, \\nK=100: {trinomial_price[1]}, \\nK=110: {trinomial_price[2]}\")"
   ]
  },
  {
   "cell_type": "markdown",
   "metadata": {},
   "source": [
    "## Option Greeks"
   ]
  },
  {
   "cell_type": "code",
   "execution_count": 187,
   "metadata": {},
   "outputs": [
    {
     "name": "stdout",
     "output_type": "stream",
     "text": [
      "Stock tree: [[100.0], [100.82496809809152, 100.0, 99.18178193987733], [101.65674191981171, 100.82496809809152, 100.0, 99.18178193987733, 98.37025868769376]]\n",
      "\n",
      "Option tree K=90: [[1.905147658846689], [1.7371446746455248, 1.903108093164942, 2.080639299562381], [1.5804651548700144, 1.7351768840746127, 1.9010679135607529, 2.078530613633208, 2.2679330170431227]]\n",
      "\n",
      "Option tree K=100: [[5.729126293249289], [5.3566834078191725, 5.726400130552554, 6.111095875736262], [4.999322183372369, 5.3539435294085465, 5.7236724527613, 6.108389249673157, 6.507922672482568]]\n",
      "\n",
      "Option tree K=110: [[12.14275151045618], [11.564231600264025, 12.140533970526192, 12.728213735468481], [10.997522136949916, 11.561910536772524, 12.13831568175135, 12.726102103466578, 13.324614669188486]]\n"
     ]
    }
   ],
   "source": [
    "# Storing stock and option tree upto step 2\n",
    "n = 3\n",
    "stock_trinomial_tree = []\n",
    "for i in range(n):\n",
    "    temp_step = trinomial_stock_tree(S0, T, N, r, y, sigma, i)\n",
    "    stock_trinomial_tree.append(list(temp_step))\n",
    "\n",
    "print(f\"Stock tree: {stock_trinomial_tree}\")\n",
    "\n",
    "option_trinomial_tree_90 = []\n",
    "option_trinomial_tree_100 = []\n",
    "option_trinomial_tree_110 = []\n",
    "\n",
    "for i in range(n):\n",
    "    temp_step = trinomial_option_tree(K[0], S0, T, N, r, y, sigma, i)\n",
    "    option_trinomial_tree_90.append(list(temp_step))\n",
    "\n",
    "for i in range(n):\n",
    "    temp_step = trinomial_option_tree(K[1], S0, T, N, r, y, sigma, i)\n",
    "    option_trinomial_tree_100.append(list(temp_step))\n",
    "\n",
    "for i in range(n):\n",
    "    temp_step = trinomial_option_tree(K[2], S0, T, N, r, y, sigma, i)\n",
    "    option_trinomial_tree_110.append(list(temp_step))\n",
    "\n",
    "print(f\"\\nOption tree K=90: {option_trinomial_tree_90}\")\n",
    "print(f\"\\nOption tree K=100: {option_trinomial_tree_100}\")\n",
    "print(f\"\\nOption tree K=110: {option_trinomial_tree_110}\")"
   ]
  },
  {
   "cell_type": "markdown",
   "metadata": {},
   "source": [
    "### Delta"
   ]
  },
  {
   "cell_type": "code",
   "execution_count": 189,
   "metadata": {},
   "outputs": [
    {
     "name": "stdout",
     "output_type": "stream",
     "text": [
      "Delta K=90: -0.20904181988129972\n",
      "Delta K=100: -0.4591156419775236\n",
      "Delta K=110: -0.708368999693539\n",
      "\n",
      "Delta tree K=90: [[-0.20904181988129972], [-0.19351400170231442, -0.22510634093408433]]\n",
      "Delta tree K=100: [[-0.4591156419775236], [-0.4372137028266025, -0.48121147436060285]]\n",
      "Delta tree K=110: [[-0.708368999693539], [-0.688576495324683, -0.7279063115596013]]\n"
     ]
    }
   ],
   "source": [
    "def compute_trinomial_delta(stock_tree, option_tree):\n",
    "    delta_node1 = (option_tree[1][0] - option_tree[1][2])/ (stock_tree[1][0] - stock_tree[1][2])\n",
    "    delta_node2 = (option_tree[2][0] - option_tree[2][2])/ (stock_tree[2][0] - stock_tree[2][2])\n",
    "    delta_node3 = (option_tree[2][2] - option_tree[2][4])/ (stock_tree[2][2] - stock_tree[2][4])\n",
    "    delta = []\n",
    "    delta.append([delta_node1])\n",
    "    delta.append([delta_node2,delta_node3])\n",
    "\n",
    "    return delta\n",
    "\n",
    "delta_trinomial_90 = compute_trinomial_delta(stock_trinomial_tree, option_trinomial_tree_90)\n",
    "delta_trinomial_100 = compute_trinomial_delta(stock_trinomial_tree, option_trinomial_tree_100)\n",
    "delta_trinomial_110 = compute_trinomial_delta(stock_trinomial_tree, option_trinomial_tree_110)\n",
    "\n",
    "# Display the computed delta values for each strike price\n",
    "print(f\"Delta K=90: {delta_trinomial_90[0][0]}\")\n",
    "print(f\"Delta K=100: {delta_trinomial_100[0][0]}\")\n",
    "print(f\"Delta K=110: {delta_trinomial_110[0][0]}\")\n",
    "\n",
    "# Display the complete delta tree for each strike price\n",
    "print(f\"\\nDelta tree K=90: {delta_trinomial_90}\")\n",
    "print(f\"Delta tree K=100: {delta_trinomial_100}\")\n",
    "print(f\"Delta tree K=110: {delta_trinomial_110}\")"
   ]
  },
  {
   "cell_type": "markdown",
   "metadata": {},
   "source": [
    "### Gamma"
   ]
  },
  {
   "cell_type": "code",
   "execution_count": 160,
   "metadata": {},
   "outputs": [
    {
     "name": "stdout",
     "output_type": "stream",
     "text": [
      "Gamma K=90: 0.019226269083293845\n",
      "Gamma K=100: 0.026775889824812642\n",
      "Gamma K=110: 0.023935094656384978\n"
     ]
    }
   ],
   "source": [
    "def compute_trinomial_gamma(stock_tree, delta_tree):\n",
    "    gamma = (delta_tree[1][0] - delta_tree[1][1])/ ((stock_tree[1][0] - stock_tree[1][2]))\n",
    "\n",
    "    return gamma\n",
    "\n",
    "gamma_trinomial_90 = compute_trinomial_gamma(stock_trinomial_tree, delta_trinomial_90)\n",
    "gamma_trinomial_100 = compute_trinomial_gamma(stock_trinomial_tree, delta_trinomial_100)\n",
    "gamma_trinomial_110 = compute_trinomial_gamma(stock_trinomial_tree, delta_trinomial_110)\n",
    "\n",
    "print(f\"Gamma K=90: {gamma_trinomial_90}\")\n",
    "print(f\"Gamma K=100: {gamma_trinomial_100}\")\n",
    "print(f\"Gamma K=110: {gamma_trinomial_110}\")"
   ]
  },
  {
   "cell_type": "markdown",
   "metadata": {},
   "source": [
    "### Theta"
   ]
  },
  {
   "cell_type": "code",
   "execution_count": 139,
   "metadata": {},
   "outputs": [
    {
     "name": "stdout",
     "output_type": "stream",
     "text": [
      "Theta K=90: -8.157591223884708\n",
      "Theta K=100: -10.903939275863195\n",
      "Theta K=110: -8.86809342721051\n"
     ]
    }
   ],
   "source": [
    "def compute_trinomial_theta(K, S, T, N, r, y, sigma, dt):\n",
    "    theta = (trinomial_american_tree(K, S, T-dt, N, r, y, sigma) - trinomial_american_tree(K, S, T, N-1, r, y, sigma)) / dt\n",
    "\n",
    "    return theta\n",
    "\n",
    "theta_trinomial_90 = compute_trinomial_theta(K[0], S0, T, N, r, y, sigma, dt)\n",
    "theta_trinomial_100 = compute_trinomial_theta(K[1], S0, T, N, r, y, sigma, dt)\n",
    "theta_trinomial_110 = compute_trinomial_theta(K[2], S0, T, N, r, y, sigma, dt)\n",
    "\n",
    "print(f\"Theta K=90: {theta_trinomial_90}\")\n",
    "print(f\"Theta K=100: {theta_trinomial_100}\")\n",
    "print(f\"Theta K=110: {theta_trinomial_110}\")"
   ]
  },
  {
   "cell_type": "markdown",
   "metadata": {},
   "source": [
    "## Numerical PDE\n",
    "\n",
    "### PDE with Greek Representations:\n",
    "$$\n",
    "\\Theta + \\frac{1}{2} \\sigma^2 S^2 \\Gamma + rS \\Delta - rV = 0\n",
    "$$\n",
    "\n",
    "Where:\n",
    "- $\\Theta$: Time decay of the option\n",
    "- $\\Gamma$: Measures the rate of change in the option's delta in response to a change in the underlying asset price\n",
    "- $\\Delta$: Rate of change of the option price with respect to a change in the underlying asset price\n",
    "\n",
    "\n",
    "- $( \\Theta + \\frac{1}{2} \\sigma^2 S^2 \\Gamma + rS\\Delta)$ is the **Value Side**.\n",
    "- $( rV )$ is the **Cost Side**.\n",
    "\n",
    "If these values are close, the PDE holds numerically with our binomial calculations."
   ]
  },
  {
   "cell_type": "code",
   "execution_count": 190,
   "metadata": {},
   "outputs": [
    {
     "name": "stdout",
     "output_type": "stream",
     "text": [
      "PDE Value Side K=90: 0.07614622383492187\n",
      "PDE Value Side K=100: 0.22697986134744796\n",
      "PDE Value Side K=110: 0.4859611687756522\n",
      "\n",
      "PDE Value Side K=90: 0.07614622383492187\n",
      "PDE Value Side K=100: 0.22697986134744796\n",
      "PDE Value Side K=110: 0.4859611687756522\n",
      "\n",
      "Difference K=90: -5.9682518945697316e-05\n",
      "Difference K=100: -0.0021851903825235997\n",
      "Difference K=110: 0.0002511083574050499\n"
     ]
    }
   ],
   "source": [
    "PDE_trinomial_value_90 = ((theta_trinomial_90) + (0.5 * sigma**2 * S0**2 * gamma_trinomial_90) + ((r-y) * S0 * delta_trinomial_90[0][0]))\n",
    "PDE_trinomial_value_100 = ((theta_trinomial_100) + (0.5 * sigma**2 * S0**2 * gamma_trinomial_100) + ((r-y) * S0 * delta_trinomial_100[0][0]))\n",
    "PDE_trinomial_value_110 = ((theta_trinomial_110) + (0.5 * sigma**2 * S0**2 * gamma_trinomial_110) + ((r-y) * S0 * delta_trinomial_110[0][0]))\n",
    "    \n",
    "print(f\"PDE Value Side K=90: {PDE_trinomial_value_90}\")\n",
    "print(f\"PDE Value Side K=100: {PDE_trinomial_value_100}\")\n",
    "print(f\"PDE Value Side K=110: {PDE_trinomial_value_110}\")\n",
    "\n",
    "print(f\"\\nPDE Value Side K=90: {PDE_trinomial_value_90}\")\n",
    "print(f\"PDE Value Side K=100: {PDE_trinomial_value_100}\")\n",
    "print(f\"PDE Value Side K=110: {PDE_trinomial_value_110}\")\n",
    "\n",
    "print(f\"\\nDifference K=90: {PDE_trinomial_value_90 - r*trinomial_price[0]}\")\n",
    "print(f\"Difference K=100: {PDE_trinomial_value_100 - r*trinomial_price[1]}\")\n",
    "print(f\"Difference K=110: {PDE_trinomial_value_110 - r*trinomial_price[2]}\")"
   ]
  },
  {
   "cell_type": "markdown",
   "metadata": {},
   "source": [
    "# Question 3"
   ]
  },
  {
   "cell_type": "markdown",
   "metadata": {},
   "source": [
    "## Functions"
   ]
  },
  {
   "cell_type": "code",
   "execution_count": 195,
   "metadata": {},
   "outputs": [],
   "source": [
    "# function to calculate tau\n",
    "def tau_calc(t,T):\n",
    "    return T-t\n",
    "\n",
    "# function to calculate beta\n",
    "def beta(sigma, r, m, t, T):\n",
    "    return 3*sigma/4 - r/(2*sigma) + m/(2*np.sqrt(tau_calc(t,T)))\n",
    "\n",
    "# function to calculate erf\n",
    "def erf(x):\n",
    "    return 2*stats.norm.cdf((x*np.sqrt(2)), loc=0, scale=1) - 1\n",
    "\n",
    "# frontier function\n",
    "def B(sigma, r, t, T, K):\n",
    "    # solving for m\n",
    "    m = fsolve(m_root, 0, args=(t,T,r,sigma))[0]\n",
    "    return K * np.exp(-(r+(sigma**2)/2)*(T-t)-sigma*np.sqrt(T-t)*m)\n",
    "\n",
    "# function d_2 from class notes p69\n",
    "def d_2(x,t,k):\n",
    "    # setting some variables\n",
    "    r = 0.04\n",
    "    sigma = 0.3\n",
    "    return (np.log(x/k) + (r - (sigma**2)/2) * t) / (sigma * np.sqrt(t))\n",
    "\n",
    "# defining equation to find the root of m\n",
    "def m_root(m_var, *parameters):\n",
    "    # setting variables\n",
    "    m = m_var\n",
    "    t, T, r, sigma = parameters\n",
    "\n",
    "    # splitting both sides into the right and left side seen in the class notes to make it readable\n",
    "    left_side = sigma * np.exp(-(r + (sigma ** 2) / 2) * tau_calc(t, T) - sigma * np.sqrt(tau_calc(t, T)) * m)*stats.norm.cdf(-m)\n",
    "    right_side = r * erf(np.sqrt((0.5 * beta(sigma, r, m, t, T)**2 + r) * tau_calc(t, T))) / np.sqrt(beta(sigma, r, m, t, T)**2 + (2 * r))\n",
    "    # setting objective function to solve\n",
    "    func = left_side - right_side\n",
    "    return func\n",
    "\n",
    "# traditional black-scholes model to calculate european put option price\n",
    "def bsm_put(r, S, K, sigma, t, T):\n",
    "    # setting tau\n",
    "    tau = tau_calc(t,T)\n",
    "\n",
    "    # calculating d_1 and d_2 for black-scholes equation\n",
    "    d_1 = (np.log(S / K) + (r + 0.5 * sigma**2) * tau) / (sigma * np.sqrt(tau))\n",
    "    d_2 = d_1 - sigma * np.sqrt(tau)\n",
    "\n",
    "    # calculating european put option price\n",
    "    euro_price =  K * np.exp(-r * T) * stats.norm.cdf(-d_2) - S * stats.norm.cdf(-d_1)\n",
    "\n",
    "    return euro_price\n",
    "\n",
    "# setting the integrand section of the option premium equation\n",
    "def integrand(t_val, r, S, T, K, sigma):\n",
    "    return np.exp(-r*t_val) * stats.norm.cdf(-d_2(S,t_val,B(sigma, r, t_val, T, K)))\n",
    "\n",
    "# function to calculate the option premium of an american put\n",
    "def optionPremium(r, S, K, sigma, t, T):\n",
    "    # setting variables\n",
    "    r = r\n",
    "    S = S\n",
    "    K = K\n",
    "    t = t\n",
    "    T = T\n",
    "    sigma = sigma\n",
    "\n",
    "    #integrating\n",
    "    integral = quad(integrand, t, T, args=(r, S, T, K, sigma))[0]\n",
    "    # calculation american put value\n",
    "    putPrem = integral * K * r\n",
    "    return putPrem"
   ]
  },
  {
   "cell_type": "code",
   "execution_count": 196,
   "metadata": {},
   "outputs": [],
   "source": [
    "# control function that calls all functions to calculate the american put value based on inputs\n",
    "def americanPutValue(r, S, K, sigma, t, T):\n",
    "\n",
    "    # setting variables\n",
    "    r = r\n",
    "    S = S\n",
    "    K = K\n",
    "    t = t\n",
    "    T = T\n",
    "\n",
    "    # calculating european put price, american premium, and american put price\n",
    "    euroPut = bsm_put(r, S, K, sigma, t, T)\n",
    "    putPremium = optionPremium(r, S, K, sigma, t, T)\n",
    "    americanPutPrice = euroPut + putPremium\n",
    "\n",
    "    print('\\nInputs are: \\n r = ', r,'\\n S = ', S,'\\n K = ', K,'\\n sigma = ', sigma,'\\n tau = ', tau_calc(t,T))\n",
    "    print('\\nOutputs are:')\n",
    "    print(' European Put Value = ', euroPut)\n",
    "    print(' American Put Premium Value = ', putPremium)\n",
    "    print(' American Put Value = ', americanPutPrice)\n",
    "    return americanPutPrice, putPremium"
   ]
  },
  {
   "cell_type": "markdown",
   "metadata": {},
   "source": [
    "## Summary and Prices"
   ]
  },
  {
   "cell_type": "code",
   "execution_count": 197,
   "metadata": {},
   "outputs": [
    {
     "name": "stdout",
     "output_type": "stream",
     "text": [
      "\n",
      "Inputs are: \n",
      " r =  0.04 \n",
      " S =  100 \n",
      " K =  90 \n",
      " sigma =  0.3 \n",
      " tau =  0.25\n",
      "\n",
      "Outputs are:\n",
      " European Put Value =  1.793865773975078\n",
      " American Put Premium Value =  0.018586486675478634\n",
      " American Put Value =  1.8124522606505566\n",
      "\n",
      "Inputs are: \n",
      " r =  0.04 \n",
      " S =  100 \n",
      " K =  100 \n",
      " sigma =  0.3 \n",
      " tau =  0.25\n",
      "\n",
      "Outputs are:\n",
      " European Put Value =  5.464466552572603\n",
      " American Put Premium Value =  0.07771652179597811\n",
      " American Put Value =  5.542183074368581\n",
      "\n",
      "Inputs are: \n",
      " r =  0.04 \n",
      " S =  100 \n",
      " K =  110 \n",
      " sigma =  0.3 \n",
      " tau =  0.25\n",
      "\n",
      "Outputs are:\n",
      " European Put Value =  11.678484410828077\n",
      " American Put Premium Value =  0.22583592765344251\n",
      " American Put Value =  11.904320338481519\n"
     ]
    }
   ],
   "source": [
    "# calculating put values\n",
    "put_K90, premium_K90 = americanPutValue(r=0.04, S=100, K=90, sigma=0.3, t=0, T=3/12)\n",
    "put_K100, premium_K100 = americanPutValue(r=0.04, S=100, K=100, sigma=0.3, t=0, T=3/12)\n",
    "put_K110, premium_K110 = americanPutValue(r=0.04, S=100, K=110, sigma=0.3, t=0, T=3/12)"
   ]
  },
  {
   "cell_type": "code",
   "execution_count": 199,
   "metadata": {},
   "outputs": [
    {
     "name": "stdout",
     "output_type": "stream",
     "text": [
      "Summary of american put values:\n",
      "strike price 90:  1.8124522606505566\n",
      "strike price 100:  5.542183074368581\n",
      "strike price 110:  11.904320338481519\n"
     ]
    }
   ],
   "source": [
    "# Summary\n",
    "print('Summary of american put values:')\n",
    "print('strike price 90: ',put_K90)\n",
    "print('strike price 100: ',put_K100)\n",
    "print('strike price 110: ',put_K110)"
   ]
  },
  {
   "cell_type": "markdown",
   "metadata": {},
   "source": [
    "# Question 4"
   ]
  },
  {
   "cell_type": "markdown",
   "metadata": {},
   "source": [
    "## Intialising parameters and variables"
   ]
  },
  {
   "cell_type": "code",
   "execution_count": 11,
   "metadata": {},
   "outputs": [],
   "source": [
    "# Initialise parameters\n",
    "S0 = 100\n",
    "sigma = 0.3\n",
    "r = 0.04\n",
    "y = 0.02\n",
    "N = 1000\n",
    "T = 3/12\n",
    "t = 0\n",
    "dt = T/N\n",
    "K = [90, 100, 110]"
   ]
  },
  {
   "cell_type": "code",
   "execution_count": 59,
   "metadata": {},
   "outputs": [
    {
     "name": "stdout",
     "output_type": "stream",
     "text": [
      "5.542375016667453\n"
     ]
    }
   ],
   "source": [
    "# Storing binomial american put prices for each K from step 3 to 1000\n",
    "american_put_binomial_90 = []\n",
    "american_put_binomial_100 = []\n",
    "american_put_binomial_110 = []\n",
    "\n",
    "for i in range(3,1001):\n",
    "    american_put_binomial_90.append(CRR_american_tree_BSM_adjustment(K[0], T, S0, r, 0, sigma, i))\n",
    "    american_put_binomial_100.append(CRR_american_tree_BSM_adjustment(K[1], T, S0, r, 0, sigma, i))\n",
    "    american_put_binomial_110.append(CRR_american_tree_BSM_adjustment(K[2], T, S0, r, 0, sigma, i))"
   ]
  },
  {
   "cell_type": "code",
   "execution_count": 76,
   "metadata": {},
   "outputs": [
    {
     "name": "stdout",
     "output_type": "stream",
     "text": [
      "[11.90292966]\n"
     ]
    }
   ],
   "source": [
    "# Storing trinomial american put prices for each K from step 3 to 1000\n",
    "american_put_trinomial_90 = []\n",
    "american_put_trinomial_100 = []\n",
    "american_put_trinomial_110 = []\n",
    "\n",
    "for i in range(3, 1001):\n",
    "    american_put_trinomial_90.append(trinomial_american_tree(K[0], S0, T, i, r, 0, sigma))\n",
    "    american_put_trinomial_100.append(trinomial_american_tree(K[1], S0, T, i, r, 0, sigma))\n",
    "    american_put_trinomial_110.append(trinomial_american_tree(K[2], S0, T, i, r, 0, sigma))\n",
    "    "
   ]
  },
  {
   "cell_type": "code",
   "execution_count": 200,
   "metadata": {},
   "outputs": [],
   "source": [
    "# Storing Put option prices from question 3\n",
    "q3_price_90 =  1.8124522606505566\n",
    "q3_price_100 =  5.542183074368581\n",
    "q3_price_110 = 11.904320338481519"
   ]
  },
  {
   "cell_type": "markdown",
   "metadata": {},
   "source": [
    "## Plots"
   ]
  },
  {
   "cell_type": "code",
   "execution_count": 201,
   "metadata": {},
   "outputs": [
    {
     "data": {
      "image/png": "[encoded data removed]",
      "text/plain": [
       "<Figure size 1000x600 with 1 Axes>"
      ]
     },
     "metadata": {},
     "output_type": "display_data"
    },
    {
     "data": {
      "image/png": "[encoded data removed]",
      "text/plain": [
       "<Figure size 1000x600 with 1 Axes>"
      ]
     },
     "metadata": {},
     "output_type": "display_data"
    },
    {
     "data": {
      "image/png": "[encoded data removed]",
      "text/plain": [
       "<Figure size 1000x600 with 1 Axes>"
      ]
     },
     "metadata": {},
     "output_type": "display_data"
    }
   ],
   "source": [
    "# Plotting\n",
    "# steps for the x-axis\n",
    "steps = np.arange(3, 1001)\n",
    "\n",
    "# K=90\n",
    "plt.figure(figsize=(10, 6))\n",
    "plt.plot(steps, american_put_binomial_90, label='Binomial Tree Premiums', color='blue')\n",
    "plt.plot(american_put_trinomial_90, label='Trinomial Tree Premiums', color='red')\n",
    "\n",
    "# Adjusting spines to make x-axis\n",
    "ax = plt.gca()\n",
    "ax.spines['bottom'].set_position(('data', q3_price_90))\n",
    "\n",
    "plt.xlabel('Steps')\n",
    "plt.ylabel('Option Premium')\n",
    "plt.title('Option Premiums (K=90) vs Steps')\n",
    "plt.legend()\n",
    "plt.show()\n",
    "\n",
    "# K=100\n",
    "plt.figure(figsize=(10, 6))\n",
    "plt.plot(steps, american_put_binomial_100, label='Binomial Tree Premiums', color='blue')\n",
    "plt.plot(american_put_trinomial_100, label='Trinomial Tree Premiums', color='red')\n",
    "\n",
    "# Adjusting spines to make x-axis \n",
    "ax = plt.gca()\n",
    "ax.spines['bottom'].set_position(('data', q3_price_100))\n",
    "\n",
    "plt.xlabel('Steps')\n",
    "plt.ylabel('Option Premium')\n",
    "plt.title('Option Premiums (K=100) vs Steps')\n",
    "plt.legend()\n",
    "plt.show()\n",
    "\n",
    "# K=110\n",
    "plt.figure(figsize=(10, 6))\n",
    "plt.plot(steps, american_put_binomial_110, label='Binomial Tree Premiums', color='blue')\n",
    "plt.plot(american_put_trinomial_110, label='Trinomial Tree Premiums', color='red')\n",
    "\n",
    "# Adjusting spines to make x-axis \n",
    "ax = plt.gca()\n",
    "ax.spines['bottom'].set_position(('data', q3_price_110))\n",
    "\n",
    "plt.xlabel('Steps')\n",
    "plt.ylabel('Option Premium')\n",
    "plt.title('Option Premiums (K=110) vs Steps')\n",
    "plt.legend()\n",
    "plt.show()"
   ]
  },
  {
   "cell_type": "markdown",
   "metadata": {},
   "source": [
    "# Question 5"
   ]
  },
  {
   "cell_type": "code",
   "execution_count": 117,
   "metadata": {},
   "outputs": [
    {
     "name": "stdout",
     "output_type": "stream",
     "text": [
      "Adjustment K=90: [-0.00047787]\n",
      "Adjustment K=90: [-0.00123844]\n",
      "Adjustment K=90: [-0.00242092]\n"
     ]
    }
   ],
   "source": [
    "# Option prices from trinomial tree with N=200 and no dividends\n",
    "trinomial_200_nodiv_90 = trinomial_american_tree(K[0], S0, T, 200, r, 0, sigma)\n",
    "trinomial_200_nodiv_100 = trinomial_american_tree(K[1], S0, T, 200, r, 0, sigma)\n",
    "trinomial_200_nodiv_110 = trinomial_american_tree(K[2], S0, T, 200, r, 0, sigma)\n",
    "\n",
    "# Adjustments from the CJM model\n",
    "adj_90 = trinomial_200_nodiv_90 - q3_price_90\n",
    "adj_100 = trinomial_200_nodiv_100 - q3_price_100\n",
    "adj_110 = trinomial_200_nodiv_110 - q3_price_110 \n",
    "\n",
    "print(f\"Adjustment K=90: {adj_90}\")\n",
    "print(f\"Adjustment K=90: {adj_100}\")\n",
    "print(f\"Adjustment K=90: {adj_110}\")\n",
    "\n",
    "# Adjusted trinomial price with N=200\n",
    "trinomial_200_90 = trinomial_american_tree(K[0], S0, T, 200, r, y, sigma) + adj_90\n",
    "trinomial_200_100 = trinomial_american_tree(K[1], S0, T, 200, r, y, sigma) + adj_100\n",
    "trinomial_200_110 = trinomial_american_tree(K[2], S0, T, 200, r, y, sigma) + adj_110"
   ]
  },
  {
   "cell_type": "code",
   "execution_count": 116,
   "metadata": {},
   "outputs": [],
   "source": [
    "# Binomial price with N=2000\n",
    "binomial_2000_90 = CRR_american_tree_BSM_adjustment(K[0], T, S0, r, y, sigma, 2000)\n",
    "binomial_2000_100 = CRR_american_tree_BSM_adjustment(K[1], T, S0, r, y, sigma, 2000)\n",
    "binomial_2000_110 = CRR_american_tree_BSM_adjustment(K[2], T, S0, r, y, sigma, 2000)"
   ]
  },
  {
   "cell_type": "code",
   "execution_count": 97,
   "metadata": {},
   "outputs": [
    {
     "name": "stdout",
     "output_type": "stream",
     "text": [
      "Adjusted Trinomial Tree American Put Price (Steps=200, K=90): 1.9045196375242932\n",
      "Binomial Tree American Put Price (Steps=2000, K=90): 1.9053188016003297\n",
      "\n",
      "Adjusted Trinomial Tree American Put Price (Steps=200, K=100): 5.72751042173364\n",
      "Binomial Tree American Put Price (Steps=2000, K=100): 5.729538790876991\n",
      "\n",
      "Adjusted Trinomial Tree American Put Price (Steps=200, K=110): 12.13973801511081\n",
      "Binomial Tree American Put Price (Steps=2000, K=110): 12.143120141998418\n"
     ]
    }
   ],
   "source": [
    "print(f\"Adjusted Trinomial Tree American Put Price (Steps=200, K=90): {trinomial_200_90[0]}\")\n",
    "print(f\"Binomial Tree American Put Price (Steps=2000, K=90): {binomial_2000_90}\")\n",
    "print(f\"\\nAdjusted Trinomial Tree American Put Price (Steps=200, K=100): {trinomial_200_100[0]}\")\n",
    "print(f\"Binomial Tree American Put Price (Steps=2000, K=100): {binomial_2000_100}\")\n",
    "print(f\"\\nAdjusted Trinomial Tree American Put Price (Steps=200, K=110): {trinomial_200_110[0]}\")\n",
    "print(f\"Binomial Tree American Put Price (Steps=2000, K=110): {binomial_2000_110}\")"
   ]
  }
 ],
 "metadata": {
  "kernelspec": {
   "display_name": "base",
   "language": "python",
   "name": "python3"
  },
  "language_info": {
   "codemirror_mode": {
    "name": "ipython",
    "version": 3
   },
   "file_extension": ".py",
   "mimetype": "text/x-python",
   "name": "python",
   "nbconvert_exporter": "python",
   "pygments_lexer": "ipython3",
   "version": "3.11.4"
  }
 },
 "nbformat": 4,
 "nbformat_minor": 2
}
